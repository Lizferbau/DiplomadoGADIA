{
  "nbformat": 4,
  "nbformat_minor": 0,
  "metadata": {
    "colab": {
      "provenance": [],
      "authorship_tag": "ABX9TyN95PYGedB+korXsCbcd6wE",
      "include_colab_link": true
    },
    "kernelspec": {
      "name": "python3",
      "display_name": "Python 3"
    },
    "language_info": {
      "name": "python"
    }
  },
  "cells": [
    {
      "cell_type": "markdown",
      "metadata": {
        "id": "view-in-github",
        "colab_type": "text"
      },
      "source": [
        "<a href=\"https://colab.research.google.com/github/Lizferbau/DiplomadoGADIA/blob/main/Clase1_Introduccion.ipynb\" target=\"_parent\"><img src=\"https://colab.research.google.com/assets/colab-badge.svg\" alt=\"Open In Colab\"/></a>"
      ]
    },
    {
      "cell_type": "markdown",
      "source": [
        "**Introducción a PHYTON**\n",
        "\n",
        "Diplomado en Gobierno y Analitica de Datos\n",
        "\n",
        "Fundación Universitaria Cafam\n",
        "\n",
        "Docente: Nicolas Mojica Gomez\n",
        "\n",
        "Estudiante: Liza Fernanda Bautista Sarmiento\n",
        "\n",
        "\n",
        "\n",
        "---\n",
        "\n"
      ],
      "metadata": {
        "id": "9JznEJGnq5-3"
      }
    },
    {
      "cell_type": "markdown",
      "source": [
        "## 1. Comentario en los Codigos\n",
        "\n",
        "Para documentar codigos en PHYTON, exiten diferentes formas de crear comentarios, esto nos permite documentar nuestra secuencia de comando para su analisis y/o posterior modificación."
      ],
      "metadata": {
        "id": "8P2Ykj9JrrUb"
      }
    },
    {
      "cell_type": "code",
      "source": [
        "# Este comentario es de una sola línea\n",
        "# Phyton es un programa sencible a las mayusculas y a las minusculas\n",
        "print(\"Hola Mundo\")"
      ],
      "metadata": {
        "colab": {
          "base_uri": "https://localhost:8080/"
        },
        "id": "6HvWiDxYrb02",
        "outputId": "fe731088-e568-4058-b54b-e44c389de30a"
      },
      "execution_count": 21,
      "outputs": [
        {
          "output_type": "stream",
          "name": "stdout",
          "text": [
            "Hola Mundo\n"
          ]
        }
      ]
    },
    {
      "cell_type": "code",
      "source": [
        "'''\n",
        "Este es un comentario de multiples líneas\n",
        "Puede extenderse en varias lineas\n",
        "'''\n",
        "print(\"Hola Mundo\")"
      ],
      "metadata": {
        "colab": {
          "base_uri": "https://localhost:8080/"
        },
        "id": "Ide3R9EAvkkI",
        "outputId": "4d7f9442-0a53-4acc-8599-aacc0507a0e9"
      },
      "execution_count": 22,
      "outputs": [
        {
          "output_type": "stream",
          "name": "stdout",
          "text": [
            "Hola Mundo\n"
          ]
        }
      ]
    },
    {
      "cell_type": "markdown",
      "source": [
        "## 2. Variables\n",
        "\n",
        "Una variable es in elemento de un lenguaje de programaci{on que tiene asignado un valor determinado"
      ],
      "metadata": {
        "id": "eBTiEHRCwSMs"
      }
    },
    {
      "cell_type": "code",
      "source": [
        "## Para crear una variable Phyton, se le debe proporcionar un nombre y se le debe asignar un valor usando un \"''\"\n",
        "var=\"Hola mundo\"\n",
        "print(var)"
      ],
      "metadata": {
        "id": "Hjqo677jwOZq",
        "colab": {
          "base_uri": "https://localhost:8080/"
        },
        "outputId": "a752ab83-37f9-40c6-fb08-a7e749b1cae3"
      },
      "execution_count": 23,
      "outputs": [
        {
          "output_type": "stream",
          "name": "stdout",
          "text": [
            "Hola mundo\n"
          ]
        }
      ]
    },
    {
      "cell_type": "code",
      "source": [
        "## Las variables pueden cambiar a lo largo del programa en Python\n",
        "var=\"Adios mundo\"\n",
        "print(var)"
      ],
      "metadata": {
        "colab": {
          "base_uri": "https://localhost:8080/"
        },
        "id": "rsEet1ZbaWQ2",
        "outputId": "8e3a3f66-0ca3-465b-bc0f-88a5c65e2920"
      },
      "execution_count": 24,
      "outputs": [
        {
          "output_type": "stream",
          "name": "stdout",
          "text": [
            "Adios mundo\n"
          ]
        }
      ]
    },
    {
      "cell_type": "code",
      "source": [
        "## Las variables son sensibles a las matusculas y a las minusculas\n"
      ],
      "metadata": {
        "id": "wq5hhAVPa2Tb"
      },
      "execution_count": 25,
      "outputs": []
    },
    {
      "cell_type": "markdown",
      "source": [
        "## 3. Tipos de datos\n"
      ],
      "metadata": {
        "id": "L91IcjiPbnXI"
      }
    },
    {
      "cell_type": "code",
      "source": [
        "# Tipos de datos numericos\n",
        "entrero=42\n",
        "# En la mayor parte de lenguajes de programacion los enteros son representados con \"int\""
      ],
      "metadata": {
        "id": "OKJ1PITKb0_v"
      },
      "execution_count": 26,
      "outputs": []
    },
    {
      "cell_type": "code",
      "source": [
        "# Tipo de datos flotante\n",
        "flotante=3.14151"
      ],
      "metadata": {
        "id": "O0s52_i0cERm"
      },
      "execution_count": 27,
      "outputs": []
    },
    {
      "cell_type": "code",
      "source": [
        "# Conversion de los tipos de datos\n",
        "# Convertir un flotante a un numero entero\n",
        "entero=int(3.14)\n",
        "print(entero)"
      ],
      "metadata": {
        "colab": {
          "base_uri": "https://localhost:8080/"
        },
        "id": "Q_zKrf2ZcK4w",
        "outputId": "29f3722a-f20a-4efd-e849-e1ccc91392ef"
      },
      "execution_count": 28,
      "outputs": [
        {
          "output_type": "stream",
          "name": "stdout",
          "text": [
            "3\n"
          ]
        }
      ]
    },
    {
      "cell_type": "code",
      "source": [
        "# Convertir entero a fotante\n",
        "flotante=float(5)\n",
        "print(flotante)"
      ],
      "metadata": {
        "colab": {
          "base_uri": "https://localhost:8080/"
        },
        "id": "Emyz_OLCcitG",
        "outputId": "9df4b28a-9571-4f4f-eed7-8e9cfa7f91ff"
      },
      "execution_count": 29,
      "outputs": [
        {
          "output_type": "stream",
          "name": "stdout",
          "text": [
            "5.0\n"
          ]
        }
      ]
    },
    {
      "cell_type": "markdown",
      "source": [
        "## 4. Operadores aritmeticos\n",
        "\n",
        "Los operadores matematicos se utilizan para realizar operaciones comunes como la adiccion, la sustraccion, multiplicacion, entre otros\n"
      ],
      "metadata": {
        "id": "F5V2YIMZcy_s"
      }
    },
    {
      "cell_type": "code",
      "source": [
        "## Suma\n",
        "a=10\n",
        "b=5\n",
        "print(a+b)"
      ],
      "metadata": {
        "colab": {
          "base_uri": "https://localhost:8080/"
        },
        "id": "kqNqV4xXcu9O",
        "outputId": "035ba0a8-bcb3-4683-dbe6-ca4745508fcb"
      },
      "execution_count": 30,
      "outputs": [
        {
          "output_type": "stream",
          "name": "stdout",
          "text": [
            "15\n"
          ]
        }
      ]
    },
    {
      "cell_type": "code",
      "source": [
        "# Resta\n",
        "c=a-b\n",
        "print(c)"
      ],
      "metadata": {
        "colab": {
          "base_uri": "https://localhost:8080/"
        },
        "id": "s1XCNcwBdN0L",
        "outputId": "b1b2bd3c-f446-49cc-da2c-658f8408958d"
      },
      "execution_count": 31,
      "outputs": [
        {
          "output_type": "stream",
          "name": "stdout",
          "text": [
            "5\n"
          ]
        }
      ]
    },
    {
      "cell_type": "code",
      "source": [
        "# Multiplicacion\n",
        "d=a*b\n",
        "print(d)"
      ],
      "metadata": {
        "colab": {
          "base_uri": "https://localhost:8080/"
        },
        "id": "hUCvdte6dUK0",
        "outputId": "af43d160-8987-4751-fb3f-8d3a0f80627b"
      },
      "execution_count": 32,
      "outputs": [
        {
          "output_type": "stream",
          "name": "stdout",
          "text": [
            "50\n"
          ]
        }
      ]
    },
    {
      "cell_type": "code",
      "source": [
        "# Division\n",
        "e=a/b\n",
        "print(e)"
      ],
      "metadata": {
        "colab": {
          "base_uri": "https://localhost:8080/"
        },
        "id": "DGVaw_Spd_9a",
        "outputId": "dc6ccf70-5e91-4df4-ed5c-0cb284f49cb3"
      },
      "execution_count": 33,
      "outputs": [
        {
          "output_type": "stream",
          "name": "stdout",
          "text": [
            "2.0\n"
          ]
        }
      ]
    },
    {
      "cell_type": "code",
      "source": [
        "# Division entera\n",
        "print(a//b)"
      ],
      "metadata": {
        "colab": {
          "base_uri": "https://localhost:8080/"
        },
        "id": "bNuEwAvOfZXy",
        "outputId": "2313bdfd-076b-4639-b968-6e4d2d93e4c9"
      },
      "execution_count": 34,
      "outputs": [
        {
          "output_type": "stream",
          "name": "stdout",
          "text": [
            "2\n"
          ]
        }
      ]
    },
    {
      "cell_type": "code",
      "source": [
        "# Modulo, residuo de una operacion\n",
        "print(a%b)"
      ],
      "metadata": {
        "colab": {
          "base_uri": "https://localhost:8080/"
        },
        "id": "JA69hgZnfk2z",
        "outputId": "0a1ebc00-8e33-446b-df63-c4277cd8268f"
      },
      "execution_count": 35,
      "outputs": [
        {
          "output_type": "stream",
          "name": "stdout",
          "text": [
            "0\n"
          ]
        }
      ]
    },
    {
      "cell_type": "code",
      "source": [
        "# Exponenciacion\n",
        "print(a**b)"
      ],
      "metadata": {
        "colab": {
          "base_uri": "https://localhost:8080/"
        },
        "id": "G_rPzy3-ftoI",
        "outputId": "26ce4b0c-afea-405f-92ed-81d2891f5aa6"
      },
      "execution_count": 36,
      "outputs": [
        {
          "output_type": "stream",
          "name": "stdout",
          "text": [
            "100000\n"
          ]
        }
      ]
    },
    {
      "cell_type": "code",
      "source": [
        "# Asignacion compuesta\n",
        "a+=b\n",
        "print(a)"
      ],
      "metadata": {
        "colab": {
          "base_uri": "https://localhost:8080/"
        },
        "id": "fwDvEu5pf1yQ",
        "outputId": "e803cae7-a57f-42cf-8fb7-716b648c5c31"
      },
      "execution_count": 37,
      "outputs": [
        {
          "output_type": "stream",
          "name": "stdout",
          "text": [
            "15\n"
          ]
        }
      ]
    },
    {
      "cell_type": "code",
      "source": [
        "print(a)"
      ],
      "metadata": {
        "colab": {
          "base_uri": "https://localhost:8080/"
        },
        "id": "95ulBUpFgctb",
        "outputId": "11e14c47-7eb8-4d55-de79-2e0d904fb8f7"
      },
      "execution_count": 41,
      "outputs": [
        {
          "output_type": "stream",
          "name": "stdout",
          "text": [
            "5\n"
          ]
        }
      ]
    },
    {
      "cell_type": "code",
      "source": [
        "a-b\n",
        "print(a)"
      ],
      "metadata": {
        "colab": {
          "base_uri": "https://localhost:8080/"
        },
        "id": "AeWmN7KXgL_x",
        "outputId": "932113fc-82a0-42be-c35c-6834568c4b8d"
      },
      "execution_count": 40,
      "outputs": [
        {
          "output_type": "stream",
          "name": "stdout",
          "text": [
            "5\n"
          ]
        }
      ]
    },
    {
      "cell_type": "code",
      "source": [
        "# Redondeo\n",
        "var4=3.1410\n",
        "print(round(var4,2))"
      ],
      "metadata": {
        "colab": {
          "base_uri": "https://localhost:8080/"
        },
        "id": "_03MLvOugOTM",
        "outputId": "7d13e7d3-6910-43fe-aba3-b29332961ff3"
      },
      "execution_count": 42,
      "outputs": [
        {
          "output_type": "stream",
          "name": "stdout",
          "text": [
            "3.14\n"
          ]
        }
      ]
    },
    {
      "cell_type": "code",
      "source": [],
      "metadata": {
        "id": "TlNdn_sqgpzb"
      },
      "execution_count": null,
      "outputs": []
    }
  ]
}