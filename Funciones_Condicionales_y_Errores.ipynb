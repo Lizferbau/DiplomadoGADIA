{
  "nbformat": 4,
  "nbformat_minor": 0,
  "metadata": {
    "colab": {
      "provenance": [],
      "authorship_tag": "ABX9TyMteQ01kWkPs0h+F0JkOvHj",
      "include_colab_link": true
    },
    "kernelspec": {
      "name": "python3",
      "display_name": "Python 3"
    },
    "language_info": {
      "name": "python"
    }
  },
  "cells": [
    {
      "cell_type": "markdown",
      "metadata": {
        "id": "view-in-github",
        "colab_type": "text"
      },
      "source": [
        "<a href=\"https://colab.research.google.com/github/Lizferbau/DiplomadoGADIA/blob/main/Funciones_Condicionales_y_Errores.ipynb\" target=\"_parent\"><img src=\"https://colab.research.google.com/assets/colab-badge.svg\" alt=\"Open In Colab\"/></a>"
      ]
    },
    {
      "cell_type": "markdown",
      "source": [
        "CONDICIONALES, FUNCIONES Y MANEJO DE ERRORES\n",
        "\n",
        "Diplomado en Gobierno y Analitica de Datos\n",
        "\n",
        "Fundación Universitaria Cafam\n",
        "\n",
        "Docente: Nicolas Mojica Gomez\n",
        "\n",
        "Estudiante: Liza Fernanda Bautista Sarmiento"
      ],
      "metadata": {
        "id": "MhLCVJToc2jF"
      }
    },
    {
      "cell_type": "code",
      "source": [
        "## Las condiciones en Phyton permiten tomar decisiones en el código basadas en ciertas condiciones, son fundamentales para controlar el flujo de ejecución\n",
        "edad=18\n",
        "#Crear una condicional que indentifique si una persona es mayor o menor de edad\n",
        "if edad<18:\n",
        "  print(\"Eres menor de edad\")\n",
        "else:\n",
        "  print(\"Eres mayor de edad\")"
      ],
      "metadata": {
        "colab": {
          "base_uri": "https://localhost:8080/"
        },
        "id": "sHZDJUYbbc0I",
        "outputId": "9462e29d-9cad-4e41-f639-19e0e1d3ad13"
      },
      "execution_count": 3,
      "outputs": [
        {
          "output_type": "stream",
          "name": "stdout",
          "text": [
            "Eres mayor de edad\n"
          ]
        }
      ]
    },
    {
      "cell_type": "code",
      "source": [
        "##Generar un programa que clasifique la edad introducida por el usuario entre mayor y menor de edad\n",
        "edad=int(input(\"Por favor ingresa tu edad \"))\n",
        "if edad<18:\n",
        "  print(\"Eres menor de edad\")\n",
        "else:\n",
        "  print(\"Eres mayor de edad\")"
      ],
      "metadata": {
        "colab": {
          "base_uri": "https://localhost:8080/"
        },
        "id": "tkQuYCjdc5aQ",
        "outputId": "c82694d7-5ff3-4b4b-caab-3125700122c6"
      },
      "execution_count": 10,
      "outputs": [
        {
          "output_type": "stream",
          "name": "stdout",
          "text": [
            "Por favor ingresa tu edad 23\n",
            "Eres mayor de edad\n"
          ]
        }
      ]
    },
    {
      "cell_type": "code",
      "source": [
        "#Construya un programa que al ingresar la nota del usuario lo clasifique en:\n",
        "#No aprobado <60, >=90 clasificación A, Si la nota fue >=80 clasificación B y si no esta en ninguna de estas opciones clasificación C\n",
        "nota=int(input(\"Ingrese la nota \"))\n",
        "if nota>=60:\n",
        "  if nota>=90:\n",
        "    print(\"Clasificación A\")\n",
        "  elif nota>=80:\n",
        "    print(\"Clasificación B\")\n",
        "  else:\n",
        "    print(\"Clasificación C\")\n",
        "else:\n",
        "  print(\"No aprobado\")"
      ],
      "metadata": {
        "colab": {
          "base_uri": "https://localhost:8080/"
        },
        "id": "jHIKwNFYe7SK",
        "outputId": "e087aa95-0c8d-461f-d6d3-167f0e760e37"
      },
      "execution_count": 9,
      "outputs": [
        {
          "output_type": "stream",
          "name": "stdout",
          "text": [
            "Ingrese la nota 85\n",
            "Clasificación B\n"
          ]
        }
      ]
    },
    {
      "cell_type": "code",
      "source": [
        "\"\"\"\n",
        "Comparaciones\n",
        "Las condiciones en las sentencias condicionales suelen involucrar operadores de comparación:\n",
        "\n",
        "- == (igual a)\n",
        "- != (diferente de)\n",
        "- > (mayor que)\n",
        "- < (menor que)\n",
        "- >= (mayor o igual que)\n",
        "- <= (menor o igual que)\n",
        "\"\"\""
      ],
      "metadata": {
        "id": "3Ir1ih2NiVjM"
      },
      "execution_count": null,
      "outputs": []
    },
    {
      "cell_type": "code",
      "source": [
        "\"\"\"\n",
        "Escribe un programa que verifique si un número ingresado por el usuario es par o impar.\n",
        "\"\"\"\n",
        "# Positiva.\n",
        "num = int(input(\"-> Ingrese un número: \"))\n",
        "if num%2 == 0:\n",
        "  print(\"// El número ingresado es par. \")\n",
        "else:\n",
        "  print(\"// El número ingresado es impar. \")\n",
        "\n",
        "# Negativa.\n",
        "  num = int(input(\"-> Ingrese un número: \"))\n",
        "if num%2 != 0:\n",
        "  print(\"// El número ingresado es impar. \")\n",
        "else:\n",
        "  print(\"// El número ingresado es par. \")"
      ],
      "metadata": {
        "colab": {
          "base_uri": "https://localhost:8080/"
        },
        "id": "s2uJnRhkmvRI",
        "outputId": "8c3560c3-d269-49b5-93f3-f4f623069beb"
      },
      "execution_count": 27,
      "outputs": [
        {
          "output_type": "stream",
          "name": "stdout",
          "text": [
            "-> Ingrese un número: 7\n",
            "// El número ingresado es impar. \n",
            "-> Ingrese un número: 8\n",
            "// El número ingresado es par. \n"
          ]
        }
      ]
    },
    {
      "cell_type": "code",
      "source": [
        "\"\"\"\n",
        "Crea un programa que lea dos números y determine cuál es mayor, cuál es menor o si ambos son iguales.\n",
        "\"\"\"\n",
        "\n",
        "num1 = int(input(\"-> Ingrese el primer número: \"))\n",
        "num2 = int(input(\"-> Ingrese el segundo número: \"))\n",
        "\n",
        "if num1 != num2:\n",
        "\n",
        "  if num1 > num2:\n",
        "    print(\"// El primer número es mayor que el segundo. Es decir, el segundo número es menor que el primero. \")\n",
        "  else:\n",
        "    print(\"// El segundo número es mayor que el primero. Es decir, el primer número es menor que el segundo. \")\n",
        "\n",
        "else:\n",
        "  print(\"// Los dos números son iguales. \")\n"
      ],
      "metadata": {
        "colab": {
          "base_uri": "https://localhost:8080/"
        },
        "id": "VdWOXkF-ioT0",
        "outputId": "230d28fb-33a8-43d3-b873-4deff798013a"
      },
      "execution_count": 23,
      "outputs": [
        {
          "output_type": "stream",
          "name": "stdout",
          "text": [
            "-> Ingrese el primer número: 33\n",
            "-> Ingrese el segundo número: 44\n",
            "// El segundo número es mayor que el primero. Es decir, el primer número es menor que el segundo. \n"
          ]
        }
      ]
    },
    {
      "cell_type": "code",
      "source": [
        "# Formato.\n",
        "num1 = int(input(\"-> Ingrese el primer número: \"))\n",
        "num2 = int(input(\"-> Ingrese el segundo número: \"))\n",
        "\n",
        "if num1 != num2:\n",
        "\n",
        "  if num1 > num2:\n",
        "    print(f\"// El número mayor es: {num1}\")\n",
        "  else:\n",
        "    print(f\"// El número mayor es: {num2} \")\n",
        "\n",
        "else:\n",
        "  print(f\"// Ambos números ingresados son el mismo: {num1}.\")"
      ],
      "metadata": {
        "colab": {
          "base_uri": "https://localhost:8080/"
        },
        "id": "H3kDTL3wj2SL",
        "outputId": "3f6fe980-1638-495f-f9bc-fbd857cb5780"
      },
      "execution_count": 33,
      "outputs": [
        {
          "output_type": "stream",
          "name": "stdout",
          "text": [
            "-> Ingrese el primer número: 33\n",
            "-> Ingrese el segundo número: 8\n",
            "// El número mayor es: 33\n"
          ]
        }
      ]
    },
    {
      "cell_type": "code",
      "source": [
        "\"\"\"\n",
        "Escribe un programa que clasifique la edad en diferentes categorías: Niño (0-12 años), Adolescente (13-17 años),\n",
        "Adulto (18-64 años) y Anciano (65 años o más)\n",
        "\"\"\"\n",
        "edad = int(input(\"Ingresa tu edad: \"))\n",
        "\n",
        "if edad < 0:\n",
        "    print(\"La edad no puede ser negativa \")\n",
        "elif 0 <= edad <= 12:\n",
        "    print(\"Eres un Niño \")\n",
        "elif 13 <= edad <= 17:\n",
        "    print(\"Eres un Adolescente \")\n",
        "elif 18 <= edad <= 64:\n",
        "    print(\"Eres un Adulto \")\n",
        "elif edad >= 65:\n",
        "    print(\"Eres un Anciano \")"
      ],
      "metadata": {
        "colab": {
          "base_uri": "https://localhost:8080/"
        },
        "id": "6i7su_SgqO6k",
        "outputId": "b8a21f2e-6355-4965-c3b1-f2a46172294a"
      },
      "execution_count": 49,
      "outputs": [
        {
          "output_type": "stream",
          "name": "stdout",
          "text": [
            "Ingresa tu edad: 30\n",
            "Eres un Adulto \n"
          ]
        }
      ]
    },
    {
      "cell_type": "markdown",
      "source": [
        "## 2. Funciones\n",
        "Son bloques de código en Phyton que se pueden reutilizar para ejecutar una tarea en especifico."
      ],
      "metadata": {
        "id": "G63ioA85tjXk"
      }
    },
    {
      "cell_type": "code",
      "source": [
        "#Tengo la función líneal y = mx+b\n",
        "#Deseo evaluar el valor de x = 5 en la función y=4x+7\n",
        "def evaluar_funcion(x):\n",
        "    return print(f\"El valor de y es = {4 * x + 7} \")"
      ],
      "metadata": {
        "id": "SMDtU782t0o_"
      },
      "execution_count": 67,
      "outputs": []
    },
    {
      "cell_type": "code",
      "source": [
        "evaluar_funcion(5)"
      ],
      "metadata": {
        "colab": {
          "base_uri": "https://localhost:8080/"
        },
        "id": "-s-3eHbeyFMp",
        "outputId": "c7bdeb84-9e88-483c-99ca-eb98591bbcd0"
      },
      "execution_count": 68,
      "outputs": [
        {
          "output_type": "stream",
          "name": "stdout",
          "text": [
            "El valor de y es = 27 \n"
          ]
        }
      ]
    },
    {
      "cell_type": "code",
      "source": [
        "#Funcion\n",
        "def suma(a,b) :\n",
        "  return a+b\n",
        "print (suma(2,2))"
      ],
      "metadata": {
        "colab": {
          "base_uri": "https://localhost:8080/"
        },
        "id": "i7Q4UKbbzY84",
        "outputId": "cba325eb-09a5-492f-caa9-be63c34efaca"
      },
      "execution_count": 78,
      "outputs": [
        {
          "output_type": "stream",
          "name": "stdout",
          "text": [
            "4\n"
          ]
        }
      ]
    },
    {
      "cell_type": "code",
      "source": [
        "\"\"\"Escribe una función que reciba la edad de una persona como parámetro y determine si la persona es mayor de edad (18 años o más) o menor de edad.\n",
        "\"\"\"\n",
        "def determinar_mayoria_edad(edad):\n",
        "    if edad < 0:\n",
        "        return \"Edad no válida\"\n",
        "    elif edad >= 18:\n",
        "        return \"Eres mayor de edad.\"\n",
        "    else:\n",
        "        return \"Eres menor de edad.\"\n",
        "\n",
        "edad = int(input(\"Ingresa la edad de la persona: \"))\n",
        "resultado = determinar_mayoria_edad(edad)\n",
        "print(resultado)"
      ],
      "metadata": {
        "colab": {
          "base_uri": "https://localhost:8080/"
        },
        "id": "sTH7xP1Xz823",
        "outputId": "568bc615-78c2-4511-e199-f2858aa4c3d9"
      },
      "execution_count": 85,
      "outputs": [
        {
          "output_type": "stream",
          "name": "stdout",
          "text": [
            "Ingresa la edad de la persona: 2\n",
            "Eres menor de edad.\n"
          ]
        }
      ]
    }
  ]
}